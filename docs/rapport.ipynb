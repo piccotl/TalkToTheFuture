{
 "cells": [
  {
   "cell_type": "markdown",
   "id": "2dc3d61e",
   "metadata": {},
   "source": [
    "<h1 style=\"text-align: center; font-size: 24pt\">ICR : Mini-Projet</h1>\n",
    "<h2 style=\"text-align: center; font-size: 18pt\">Rapport</h2>\n",
    "<h2 style=\"text-align: center; font-size: 18pt\">Loïc Piccot - 21.05.2025</h2>\n",
    "\n",
    "---"
   ]
  },
  {
   "cell_type": "markdown",
   "id": "a14bf5ed",
   "metadata": {},
   "source": [
    "# 1. Introduction\n",
    "\n",
    "## 1.1. Objectifs\n",
    "\n",
    "Ce projet a pour objectif d'implémenter un **service de messagerie sécurisé** reposant sur la cryptographie. Cette messagerie offre la particularité d'envoyer des messages *\"dans le futur\"*, c'est à dire que ceux-ci ne pourront être lus qu'à partir d'une date donnée. Voici les principales caractéristiques du service :\n",
    "- L'accès au service repose sur une architecture **client/serveur**.\n",
    "- Les utilisateurs peuvent se connecter au serveur depuis n'importe quel appareil à l'aide d'un identifiant unique basé sur la paire **(Nom d'utilisateur/Mot de passe)**. Le mot de passe peut-être modifié.\n",
    "- Les données sont **chiffrées de bout en bout**. Le serveur ne connait pas le contenu des messages et n'a pas la possibilité de les déchiffrer (modèle  *\"honest but curious\"*).\n",
    "- Un utilisateur **peut télécharger ses messages, avant la date de déverrouillage**, mais ne pourra pas les déchiffrer tant que cette date n'est pas atteinte. Il peut cependant consulter à tout moment la date de disponibilité.\n",
    "- Les messages sont **authentifiés et non-répudiables**.\n",
    "- Le service est conçu pour supporter un nombre d'utilisateur très élevé.\n",
    "\n",
    "Pour la réalisation pratique de ce projet, pour des questions de simplicité et de rapidité d'implémentation, c'est le language Python qui a été retenu. Et pour l'implémentation des fonctions cryptographique, nous utiliserons la librairie libsodium, plus précisément son binding python : [pyNaCl](https://pypi.org/project/PyNaCl/)."
   ]
  },
  {
   "cell_type": "markdown",
   "id": "bd38082f",
   "metadata": {},
   "source": [
    "## 1.2. Architecture\n",
    "L’architecture cryptographique du service repose sur une combinaison de primitives symétriques et asymétriques afin de garantir **confidentialité, intégrité et authenticité** des messages.\n",
    "\n",
    "Premièrement, **avant tout échange**, le canal de communication client/serveur est sécurisé par le protocol TLS 1.3. Cela permet de garantir la confidentialité et l'intégrité de la communication entre les entitées.\n",
    "\n",
    "Deuxièmement, lors de l’enregistrement d’un utilisateur, son mot de passe n’est jamais stocké en clair sur le serveur. Il est transformé en un **tag** vérificateur de mot de passe à l’aide d’une fonction de dérivation cryptographique (password hashing), renforcée par un sel aléatoire. Ce mécanisme empêche toute récupération directe du mot de passe, même en cas d’accès aux données du serveur.\n",
    "\n",
    "Troisièmement, Lorsqu’un message est envoyé, une clé symétrique unique est générée aléatoirement. On utilise cette clé pour réaliser un chiffrement authentifié des données. Ce dernier garantie la confidentialité des données. Ce processus ajoute également une certaine forme d'authenticité puisque seul le détenteur de la clé peut chiffrer les données. Enfin, la génération d'un MAC prévient de toute modification des données cela garantie leur intégrité. Certaines métadonnées nécessaires au traitement du message sont laissées en clair sous forme de données authentifiées *(AAD – Additional Authenticated Data)*. Ces informations comprennent l’expéditeur, le destinataire, ainsi que la date de déverrouillage du message.\n",
    "\n",
    "Enfin, pour garantir que seul le destinataire pourra lire le message, la clé symétrique est chiffrée à l’aide de sa clé publique via un algorithme de cryptographie asymétrique. Le serveur ne possède pas les clés privées des utilisateurs, ce qui l’empêche de déchiffrer la clé symétrique et par extension le contenu des messages. Cependant, la date de déchiffrement étant transmise en claire, le serveur peut décider de transmettre, où non, la clé de chiffrement au destinataire en fonction de la date de déverrouillage fixée par l'émetteur. "
   ]
  },
  {
   "cell_type": "markdown",
   "id": "47f3d474",
   "metadata": {},
   "source": [
    "# 2. Sécuriation du canal de communication\n",
    "\n",
    "Même si le contenu des messages est chiffré de bout en bout, les metadonnées échangées en clair peuvent données des informations cruciales à un attaquant. Celle-ci contiennent, le nom d'utilisateur, le hash du mot de passe, le sel associé, la date et le destinataire des messages, ainsi que le contenu même des messages qui, bien que chiffré, pourrait-être stocké par un adversaire passif qui écouterait simplement le canal. C'est pourquoi il est déterminant pour la sécurité du service d'utiliser un protocol pour chiffrer les communications entre le client et le serveur.\n",
    "\n",
    "![TLS](figures/TLS.png)\n",
    "\n",
    "Dans ce but, c'est le protocol **TLS 1.3** qui a été retenu. Celui-ci permet :\n",
    "\n",
    "- D'authentifier le serveur afin de se prémunir des attaques de type Man-in-the-middle\n",
    "- De protéger l'intégriter du canal pour se prémunir d'éventuelles injections ou manipulations des requettes\n",
    "- De rajouter une couche d'abstraction du materiel puisque le handshake permet de définir des algorithmes adaptés aux appareils utilisés.\n",
    "- De se défendre éfficacement contre tout adversaire passif.\n",
    "\n",
    "L’implémentation du protocole TLS n’étant pas requise dans le cadre de ce projet, et les solutions locales en Python n’étant pas pleinement adaptées au contexte de l'application, j’ai choisi de ne pas intégrer cette fonctionnalité à mon implémentation."
   ]
  },
  {
   "cell_type": "markdown",
   "id": "31d956b3",
   "metadata": {},
   "source": [
    "# 3. Enregistrement et Authentification utilisateur\n",
    "\n",
    "Les utilisateurs doivent être capables de se connecter au serveur depuis n'importe quel appareil. Cela implique qu'aucune donné ne peut être stocké dans ces appareilles si ce n'est l'application elle même. C'est pourquoi, il est nécessaire de mettre en place des procédures d'enregistrement et d'authentification basés uniquement sur le mot de passe. Cela permettra à l'utilisateur de demander, dans un second temps, ses informations au serveur.\n",
    "\n",
    "De plus, il est important que le serveur n'ai pas accès au mot de passe en clair, cela permet de réduire les risques en cas de fuite de données du serveur. Pour cela, à la place d'envoyer le mot de passe en clair au serveur, il est intéressant d'utiliser une fonction de dérivation pour extraire un tag de vérification du mot de passe. C'est donc ce tag ainsi que le sel utilisé pour le générer qui sont stockés sur le serveur.\n",
    "\n",
    "La section 3.1 présente les choix cryptographique tandis que la section 3.2 présente le fonctionnement détaillé des protocols d'enregistrement, d'authentification et de changement de mot de passe d'un utilisateur auprès du serveur. Enfin la section 3.3 présente brievement l'implémentation retenue pour la partie cryptographique uniquement."
   ]
  },
  {
   "cell_type": "markdown",
   "id": "33af9e1e",
   "metadata": {},
   "source": [
    "## 3.1. Choix cryptographiques\n",
    "\n",
    "### 3.1.1. Argon2id\n",
    "\n",
    "Pour le stockage de mot de passe, il est généralement recommandé d'utiliser une PBKDF (Password Base Key Derivation Function) dédiée à la sécurité des mots de passe, plutôt qu'une simple fonction de hachage comme SHA-256. Pour cette application, nous choisirons Argon2 pour les raisons suivantes :\n",
    "- Les PBKDF sont plus lentes et couteuses en ressource ce qui est une bonne chose pour ralentir considérablement une attaque par *\"brute-force\"*\n",
    "- Argon2 est propose de nombreux paramètres (voir section 3.1.2) pour adapter au besoin le ralentissement ou le cout en ressources\n",
    "- Argon2 est recommandé, a une construction simple, une meilleure preuve de sécurité que ses concurents\n",
    "- Argon2 est implémenté et même le choix par défaut dans la librairie libsodium choisit pour ce projet\n",
    "\n",
    "    Plus précisément, nous choisirons la version `Argon2id` qui est un compromis (hybrid) entre :\n",
    "- Argon2d: qui maximise la résistance contre les attaques GPU\n",
    "- Argon2i: qui maximise la résistance aux \"*side-channel attacks*\"\n",
    "\n",
    "### 3.1.2. Paramètres\n",
    "\n",
    "- **Nombre de threads** : Il est recommandé d'en utiliser le maximum possible pour obliger l'attaquant à utiliser le même nombre, sous peine d'être serieusement ralenti (accélère aussi la connexion)\n",
    "- **Taille mémoire** : La taille nécessaire à stocker les résultats intermédiaires d'Argon2. Ici le calcul est effectué en interne du device utilisateur et non sur le serveur. Le nombre de requettes de connexions simultanées n'est donc pas un facteur limitant. La taille mémoire dépend donc uniquement de la place qu'il est acceptable d'utiliser sur le device utilisateur.\n",
    "- **Temps de connexion** : Il faut adapter le paramètre de complexité d'Argon2 pour s'approcher du temps de connexion souhaitable. Plus ce temps est élevé, plus la sécurité est renforcée (au détriment d'une expérience utilisateur légèrement dégradée). Etant donné qu'il s'agit d'une application d'échange de message potentiellement sensibles, on va forcer **2s** de temps de connexion.\n",
    "\n",
    "\n",
    "### 3.1.3. Risques\n",
    "\n",
    "Les risques liés à cette construction pour l'authentification du client sont :\n",
    "- Si un attaquant connait le nom d'un utilisateur et son tag de vérification, il pourra alors s'identifier à la place de l'utilisateur.\n",
    "- Dans le cas précédent, si le mot de passe n'est pas suffisament sûr, l'attaquant pourra faire une attaque par brut-force pour retrouver le mot de passe réel de l'utilisateur (potentiellement réutiliser dans d'autres services)\n",
    "- Si un attaquant récupère uniquement le sel mais est capable de faire de multiples requettes au serveur il pourra aussi brut-forcer les mots de passe les plus faibles pour tenter une identification\n",
    "- Si un attaquant récupère le nom et le token de session d'un utilisateur connecté au serveur, il pourra usurper l'identité de l'utilisateur pour la session active. "
   ]
  },
  {
   "cell_type": "markdown",
   "id": "8a7d8c68",
   "metadata": {},
   "source": [
    "## 3.2. Protocols\n",
    "### 3.2.1. Enregistrement\n",
    "![enregistrement](figures/enregistrement.png)\n",
    "- L'utilisateur génère aléatoirement un sel\n",
    "- L'utilisateur hache son mot de passe avec **Argon2** : $\\tau = argon2(pwd, salt)$\n",
    "- L'utilisateur envoie ses informations au serveur\n",
    "- Le serveur vérifie la disponibilité du nom utilisateur\n",
    "- Le serveur stocke les informations: $user_{\\text{infos}} = (username, \\tau, salt)$\n",
    "\n",
    "### 3.2.2. Authentification\n",
    "![login](figures/login.png)\n",
    "- L'utilisateur envoie une requette au serveur avec son username\n",
    "- Le serveur répond avec le sel associé\n",
    "- L'utilisateur recalcul $\\tau' = argon2(pwd, salt)$\n",
    "- L'utilisateur transmets $(username, \\tau')$ au serveur\n",
    "- Le serveur vérifie et si le $\\tau'$ reçu correspond bien au $\\tau$ stocké lors de l'enregistrement.\n",
    "- Le serveur valide l'authentification et génère un token de session pour l'utilisateur\n",
    "\n",
    "### 3.2.3.  Changement de mot de passe\n",
    "- L'utilisateur effectue la procédure d'identification\n",
    "- L'utilisateur génère un nouveau sel aléatoire $salt'$\n",
    "- L'utilisateur hache son nouveau mot de passe avec *Argon2* : $\\tau' = argon2(pwd', salt')$\n",
    "- L'utilisateur fournit ses données de session ainsi que son nouveau mot de passe $(username, token, pwd')$\n",
    "- Le serveur vérifie le token de session\n",
    "- Le serveur remplace les anciennes valeurs par celles reçues $(\\tau, salt) \\leftarrow (\\tau', salt')$\n"
   ]
  },
  {
   "cell_type": "markdown",
   "id": "9c1d8666",
   "metadata": {},
   "source": [
    "## 3.3. Implémentation\n",
    "\n",
    "Pour l'implémentation, nous utilisons donc le package `pwhash` de libsodium et sa fonction argon2id. Avec une taille de clé standard de 32 bytes soit 256 bits.\n",
    "Les paramètres de coût mémoire `memlimit` et de coût d'opération `opslimit` sont fixés à SENSITIVE.\n",
    "\n",
    "Pour la génération du sel, nous utilisons le package `utils.random` afin de générer 16 bytes soit 128 bits aléatoires.\n",
    "\n",
    "```python\n",
    "from nacl.pwhash import argon2id \n",
    "from nacl import secret, utils\n",
    "\n",
    "def hash_password(password: bytes, salt: bytes) -> bytes:\n",
    "    return argon2id.kdf(size=secret.SecretBox.KEY_SIZE,\n",
    "                        password=password,\n",
    "                        salt=salt,\n",
    "                        opslimit=argon2id.OPSLIMIT_SENSITIVE,\n",
    "                        memlimit=argon2id.MEMLIMIT_SENSITIVE)\n",
    "\n",
    "def generate_salt() -> bytes: \n",
    "    return utils.random(argon2id.SALTBYTES)\n",
    "```\n",
    "\n",
    "Enfin, nous générons un token de session temporaire de 16 bytes généré à l'aide de la librairie python `secrets`. Celle-ci utilise le meilleur générateur de nombre aléatoire disponible sur l'appareil. Par exemple /dev/urandom sur linux.\n",
    "\n",
    "```python\n",
    "import secrets\n",
    "\n",
    "def gen_token() -> str:\n",
    "    return secrets.token_hex(16)\n",
    "```\n"
   ]
  },
  {
   "cell_type": "markdown",
   "id": "591a12c4",
   "metadata": {},
   "source": [
    "# 4. Chiffrement authentifié\n",
    "\n",
    "## 4.1. Choix cryptographiques\n",
    "## 4.2. Protocols\n",
    "### 4.2.1. Envoie de message\n",
    "- L'émetteur demande la clé publique du destinataire (voir 5.2.2)\n",
    "- L'émetteur génère une clé symétrique\n",
    "- L'émetteur prépare les données authentifiés contenant l'émetteur le destinataire et la date de déverrouillage du message $(sender | receiver | date_{unlock})$\n",
    "- L'émetteur génère un nonce aléatoire associé au message\n",
    "- L'émetteur utilise XChaCha20-Poly1305 pour chiffrer de manière authentifié : le contenu, les données authentifiés et le nonce. chiffre le contenu du message et génère un tag basé sur le nonce\n",
    "\n",
    "## 4.3. Implémentation"
   ]
  },
  {
   "cell_type": "markdown",
   "id": "a1eac02e",
   "metadata": {},
   "source": [
    "# 5. Cryptographie asymétrique\n",
    "\n",
    "## 5.1. Choix cryptographiques\n",
    "## 5.2. Protocols\n",
    "\n",
    "### 5.2.1. Génération de clés\n",
    "\n",
    "### 5.2.2 Récupération de la clé publique du destinataire\n",
    "- L'emetteur s'identifie sur le serveur et récupère son $token$ de session\n",
    "- L'emetteur demande la clé publique du destinataire via $username$\n",
    "- Le serveur vérifie la session et vérifie l'existence du destinataire\n",
    "- Le serveur retourne la clé publique du destinataire"
   ]
  }
 ],
 "metadata": {
  "language_info": {
   "name": "python"
  }
 },
 "nbformat": 4,
 "nbformat_minor": 5
}
