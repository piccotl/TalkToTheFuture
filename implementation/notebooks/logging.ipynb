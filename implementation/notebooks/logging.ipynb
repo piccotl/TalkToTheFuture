{
 "cells": [
  {
   "cell_type": "markdown",
   "id": "1d2c513b",
   "metadata": {},
   "source": [
    "<h1 style=\"text-align: center; font-size: 24pt\">ICR : Mini-Projet</h1>\n",
    "<h2 style=\"text-align: center; font-size: 18pt\">Logging</h2>\n",
    "<h2 style=\"text-align: center; font-size: 18pt\">Loïc Piccot - 21.05.2025</h2>\n",
    "\n",
    "---"
   ]
  },
  {
   "cell_type": "markdown",
   "id": "04005457",
   "metadata": {},
   "source": [
    "# Paramètres Argon2\n",
    "\n",
    "- **Nombre de threads** : Il est recommandé d'en utiliser le maximum possible pour obliger l'attaquant à utiliser le même nombre, sous peine d'être serieusement ralenti (accélère aussi la connexion)\n",
    "- **Taille mémoire** : La taille nécessaire à stocker les résultats intermédiaires d'Argon2. Ici le calcul est effectué en interne du device utilisateur et non sur le serveur. Le nombre de requettes de connexions simultanées n'est donc pas un facteur limitant. La taille mémoire dépend donc uniquement de la place qu'il est acceptable d'utiliser sur le device utilisateur.\n",
    "- **Temps de connexion** : Il faut adapter le paramètre de complexité d'Argon2 pour s'approcher du temps de connexion souhaitable. Plus ce temps est élevé, plus la sécurité est renforcée (au détriment d'une expérience utilisateur légèrement dégradée). Etant donné qu'il s'agit d'une application d'échange de message potentiellement sensibles, on va forcer **2s** de temps de connexion.\n",
    "\n",
    "\n",
    "---"
   ]
  },
  {
   "cell_type": "markdown",
   "id": "2d220246",
   "metadata": {},
   "source": [
    "# Fonctionnement des protocoles liés au logging\n",
    "Cette section considère un canal client/serveur sécurisé par TLS.\n",
    "\n",
    "## Enregistrement\n",
    "- L'utilisateur génère aléatoirement un sel\n",
    "- L'utilisateur hash son mot de passe avec **Argon2** : $\\tau = argon2(pwd, salt)$\n",
    "- L'utilisateur envoie ses informations au serveur (qui vérifie si le nom existe déjà): $user_{\\text{infos}} = (name, \\tau, salt)$\n",
    "\n",
    "## Identification\n",
    "- L'utilisateur envoie une requette au serveur avec son username\n",
    "- Le serveur répond avec le sel associé\n",
    "- L'utilisateur recalcul $\\tau' = argon2(pwd, salt)$\n",
    "- L'utilisateur transmets $(username, \\tau')$ au serveur\n",
    "- Le serveur vérifie et si le $\\tau'$ reçu correspond bien au $\\tau$ stocké lors de l'enregistrement.\n",
    "\n",
    "## Changement de mot de passe\n",
    "- L'utilisateur effectue la procédure d'identification\n",
    "- L'utilisateur effectue la procédure d'enregistrement\n",
    "- Le serveur vérifie si le nom existe et si l'utilisateur correspondant est bien connecté\n",
    "- Le serveur remplace les anciennes valeurs $(\\tau, salt)$ par celles reçues\n",
    "\n",
    "---"
   ]
  },
  {
   "cell_type": "markdown",
   "id": "b68c6f46",
   "metadata": {},
   "source": [
    "# Implémentation\n",
    "*Pour l'implémentation, on appelera le hash du mot de passe ($\\tau$) : `pwd_verifier` puisqu'il sert à vérifier le mot de passe de l'utilisateur lors de sa connexion.*"
   ]
  },
  {
   "cell_type": "markdown",
   "id": "b52acfff",
   "metadata": {},
   "source": [
    "## Includes"
   ]
  },
  {
   "cell_type": "code",
   "execution_count": 6,
   "id": "7fee4f30",
   "metadata": {},
   "outputs": [],
   "source": [
    "from __future__ import annotations     # Postponed evaluation of annotations\n",
    "from nacl import pwhash, secret, utils\n",
    "from lphelpers import tracer"
   ]
  },
  {
   "cell_type": "markdown",
   "id": "6173811c",
   "metadata": {},
   "source": [
    "## KdfParams\n",
    "Cette classe centralise tout les choix cryptographique pour la partie enregistrement et logging du projet. "
   ]
  },
  {
   "cell_type": "code",
   "execution_count": 11,
   "id": "120f31a6",
   "metadata": {},
   "outputs": [],
   "source": [
    "class KdfParams :\n",
    "    def __init__(self, keysize=secret.SecretBox.KEY_SIZE, ops=pwhash.argon2id.OPSLIMIT_MODERATE, mem=pwhash.argon2id.MEMLIMIT_MODERATE) : \n",
    "        self.keysize = keysize\n",
    "        self.ops = ops\n",
    "        self.mem = mem"
   ]
  },
  {
   "cell_type": "markdown",
   "id": "e442e508",
   "metadata": {},
   "source": [
    "## UserInfos\n",
    "Cette classe est un utilitaire pour grouper les informations utilisateurs enregistrés dans le serveur."
   ]
  },
  {
   "cell_type": "code",
   "execution_count": 8,
   "id": "38b48fac",
   "metadata": {},
   "outputs": [],
   "source": [
    "class UserInfos :\n",
    "    def __init__(self, name:str, pwd_verifier:bytes, salt:bytes):\n",
    "        self.name = name\n",
    "        self.pwd_verifier = pwd_verifier\n",
    "        self.salt = salt\n",
    "        self.isconnected:bool = False\n",
    "\n",
    "    def __str__(self):\n",
    "        return f\"{self.name}\""
   ]
  },
  {
   "cell_type": "markdown",
   "id": "3e38bb07",
   "metadata": {},
   "source": [
    "## Server\n",
    "Cette classe permet d'instancier une entité serveur qui propose les méthodes suivantes : \n",
    "| Méthode | Fonction |\n",
    "|---|---|\n",
    "`register`| Permet à un utilisateur de s'enregister avec ses `UserInfos`\n",
    "`getmysalt`| Permet à un utilisateur de récupérer son `salt` avant de se login\n",
    "`login`| Permet à un utilisateur d'envoyer son `pwd_verifier` pour confirmer son identité et se connecter au serveur\n",
    "`logout`| Permet à un utilisateur de se déconnecter\n",
    "`update`| Permet à un utilisateur de mettre à jour son `pwd_verifier` en spécifiant le nouveau `salt` utilisé\n",
    "`remove`| Supprimer un utilisateur\n",
    "`show_registered_users`| Montrer la liste des utilisateurs enregistrés (seulement pour le débug)"
   ]
  },
  {
   "cell_type": "code",
   "execution_count": 13,
   "id": "d749a772",
   "metadata": {},
   "outputs": [],
   "source": [
    "class Server : \n",
    "    def __init__(self, name:str='Server', tr:tracer = tracer(trace_level='DEBUG')):\n",
    "        self.name:str = name\n",
    "        self.users:list[UserInfos]  = []\n",
    "\n",
    "        self.tr:tracer = tr     # Tracer to handle general verbosity of the Server\n",
    "                                # 4 possible levels : ERROR, WARNING, INFO, DEBUG\n",
    "\n",
    "    def register(self, new_user: UserInfos) -> bool: \n",
    "        if all(user.name != new_user.name  for user in self.users):\n",
    "            self.users.append(new_user)\n",
    "            self.tr.info(f\"[{self}]: New user {new_user.name} was added!\")\n",
    "            return True\n",
    "        self.tr.error(f\"[{self}]: User {new_user.name} already exists!\")\n",
    "        return False\n",
    "\n",
    "    def getmysalt(self, requester_name: str) -> bytes :\n",
    "        for user in self.users :\n",
    "            if user.name == requester_name :\n",
    "                return user.salt\n",
    "        self.tr.error(f\"[{self}]: No user is registered as : {requester_name}\")\n",
    "        return None\n",
    "    \n",
    "    def login(self, requester_name:str, requester_pwd_verifier:bytes) -> bool :\n",
    "        for user in self.users :\n",
    "            if user.name == requester_name :\n",
    "                if user.pwd_verifier == requester_pwd_verifier :\n",
    "                    user.isconnected = True\n",
    "                    self.tr.info(f'[{self}]: User {requester_name} is now connected!')\n",
    "                    return True\n",
    "                else : \n",
    "                    self.tr.error(f'[{self}]: Wrong password!')\n",
    "                    return False\n",
    "        self.tr.error(f\"[{self}]: No user is registered as : {requester_name}\")\n",
    "        return False\n",
    "    \n",
    "    def logout(self, requester_name) -> bool:\n",
    "        for user in self.users:\n",
    "            if user.name == requester_name:\n",
    "                user.isconnected = False\n",
    "                self.tr.info(f\"[{self}]: {requester_name} has been logged out.\")\n",
    "                return True\n",
    "        self.tr.error(f\"[{self}]: No user is registered as: {requester_name}\")\n",
    "        return False\n",
    "\n",
    "    def update(self, requester:UserInfos) -> bool :\n",
    "        for user in self.users :\n",
    "            if user.name == requester.name :\n",
    "                if not user.isconnected :\n",
    "                    self.tr.warn(f'[{self}]: Please login before!')\n",
    "                    return False\n",
    "                user.pwd_verifier = requester.pwd_verifier\n",
    "                user.salt = requester.salt\n",
    "                self.tr.info(f\"[{self}]: Password updated for {user.name}\")\n",
    "                return True\n",
    "        self.tr.error(f\"[{self}]: No user is register as : {requester.name}\")\n",
    "        return False\n",
    "    \n",
    "    def remove(self, requester_name):\n",
    "        self.users = [user for user in self.users if user.name != requester_name]\n",
    "        self.tr.info(f\"[{self}]: User {requester_name} was successfully removed!\")\n",
    "\n",
    "    def show_registered_users(self):\n",
    "        for user in self.users :\n",
    "            self.tr.info(user.name)\n",
    "\n",
    "    def __str__(self):\n",
    "        return f\"{self.name}\""
   ]
  },
  {
   "cell_type": "markdown",
   "id": "d43b3127",
   "metadata": {},
   "source": [
    "## Client\n",
    "Cette classe permet d'instancier une entité client qui propose les méthodes suivantes : \n",
    "| Méthode | Fonction |\n",
    "|---|---|\n",
    "`gen_public_infos`| Permet à un utilisateur de générer ses `UserInfos` en hachant son mot de passe\n",
    "`register_on`| Permet à un utilisateur de s'enregistrer auprès d'un `Server` en fournissant ses `UserInfos`\n",
    "`login_on`| Permet à un utilisateur de s'enregistrer auprès d'un `Server`\n",
    "`logout_from`| Permet à un utilisateur de se déconnecter d'un `Server` \n",
    "`change_password_on`| Permet à un utilisateur de mettre à jour son `pwd_verifier` en spécifiant le nouveau `salt` utilisé"
   ]
  },
  {
   "cell_type": "code",
   "execution_count": 12,
   "id": "53279b42",
   "metadata": {},
   "outputs": [],
   "source": [
    "class Client : \n",
    "    def __init__(self, name : str, password : bytes, tr:tracer = tracer(trace_level='DEBUG')):\n",
    "        self.name = name\n",
    "        self.password = password\n",
    "        self.kdf = pwhash.argon2id.kdf\n",
    "        self.kdf_params = KdfParams(keysize=secret.SecretBox.KEY_SIZE, ops=pwhash.argon2id.OPSLIMIT_SENSITIVE, mem=pwhash.argon2id.MEMLIMIT_SENSITIVE)\n",
    "\n",
    "        self.tr:tracer = tr     # Tracer to handle general verbosity of the User\n",
    "                                # 4 possible levels : ERROR, WARNING, INFO, DEBUG\n",
    "    \n",
    "    def gen_public_infos(self) -> UserInfos:\n",
    "        self.tr.debug(f'[{self.name}]: Drawing a random salt...')\n",
    "        salt = utils.random(pwhash.argon2i.SALTBYTES)                                       # Draw a random salt \n",
    "        self.tr.debug(f'[{self.name}]: Generating public informations...')\n",
    "        kp = self.kdf_params                                                                # Get kdf parameters\n",
    "        pwd_verifier = self.kdf(kp.keysize, self.password, salt, opslimit=kp.ops, memlimit=kp.mem)  # Compute pwd_verifier\n",
    "        return UserInfos(self.name, pwd_verifier, salt)\n",
    "    \n",
    "    def register_on(self, server : Server) -> bool:\n",
    "        public_infos = self.gen_public_infos()\n",
    "        self.tr.debug(f'[{self.name}]: Request a registration on {server}')\n",
    "        return server.register(public_infos)\n",
    "\n",
    "    def login_on(self, server : Server) -> bool:\n",
    "        self.tr.debug(f'[{self.name}]: Getting salt from {server}')\n",
    "        salt = server.getmysalt(self.name)                                          # Recover the salt\n",
    "        if (not salt) : return False\n",
    "        self.tr.debug(f'[{self.name}]: Recomputing pwd_verifier')\n",
    "        kp = self.kdf_params                                                                # Get kdf parameters\n",
    "        pwd_verifier = self.kdf(kp.keysize, self.password, salt, opslimit=kp.ops, memlimit=kp.mem)  # Recompute pwd_verifier\n",
    "        self.tr.debug(f'[{self.name}]: Request a login on {server}')\n",
    "        return server.login(self.name, pwd_verifier)                                               # Login on server\n",
    "\n",
    "    def logout_from(self, server : Server) -> bool:\n",
    "        self.tr.debug(f'[{self.name}]: Request a logout from {server}')\n",
    "        return server.logout(self.name)\n",
    "\n",
    "    def change_password_on(self, server : Server, new_password : str) -> bool:\n",
    "        self.password = new_password\n",
    "        public_infos = self.gen_public_infos() # Generate new public infos using new pwd (new salt as well)\n",
    "        self.tr.debug(f'[{self.name}]: Request a passord update on {server}')\n",
    "        return server.update(public_infos)\n",
    "\n",
    "    def __str__(self):\n",
    "        return f\"{self.name}\""
   ]
  },
  {
   "cell_type": "markdown",
   "id": "358ce473",
   "metadata": {},
   "source": [
    "---"
   ]
  },
  {
   "cell_type": "markdown",
   "id": "52cf11a0",
   "metadata": {},
   "source": [
    "# Test\n",
    "\n",
    "Cette section montre un exemple basic d'utilisation des classes présentées ci-dessus.\n",
    "- Instanciation du serveur\n",
    "- Instanciation d'un client avec des informations utilisateur\n",
    "- Enregistrement d'un utilisateur depuis le client auprès du serveur\n",
    "- Identification d'un utilisateur depuis le client auprès du serveur\n",
    "- Changement du mot de passe de l'utilisateur\n",
    "- Déconnexion du client"
   ]
  },
  {
   "cell_type": "code",
   "execution_count": null,
   "id": "4605d8da",
   "metadata": {},
   "outputs": [
    {
     "name": "stdout",
     "output_type": "stream",
     "text": [
      "\u001b[34m[DEBUG]: [Transmitter]: Drawing a random salt...\u001b[39m\n",
      "\u001b[34m[DEBUG]: [Transmitter]: Generating public informations...\u001b[39m\n",
      "\u001b[34m[DEBUG]: [Transmitter]: Request a registration on Server\u001b[39m\n",
      "\u001b[37m[INFO]: [Server]: New user Transmitter was added!\u001b[39m\n",
      "\u001b[34m[DEBUG]: [Transmitter]: Getting salt from Server\u001b[39m\n",
      "\u001b[34m[DEBUG]: [Transmitter]: Recomputing pwd_verifier\u001b[39m\n",
      "\u001b[34m[DEBUG]: [Transmitter]: Request a login on Server\u001b[39m\n",
      "\u001b[37m[INFO]: [Server]: User Transmitter is now connected!\u001b[39m\n",
      "\u001b[34m[DEBUG]: [Transmitter]: Drawing a random salt...\u001b[39m\n",
      "\u001b[34m[DEBUG]: [Transmitter]: Generating public informations...\u001b[39m\n",
      "\u001b[34m[DEBUG]: [Transmitter]: Request a passord update on Server\u001b[39m\n",
      "\u001b[37m[INFO]: [Server]: Password updated for Transmitter\u001b[39m\n",
      "\u001b[34m[DEBUG]: [Transmitter]: Request a logout from Server\u001b[39m\n",
      "\u001b[37m[INFO]: [Server]: Transmitter has been logged out.\u001b[39m\n"
     ]
    },
    {
     "data": {
      "text/plain": [
       "True"
      ]
     },
     "execution_count": 19,
     "metadata": {},
     "output_type": "execute_result"
    }
   ],
   "source": [
    "server = Server(name = 'Server')\n",
    "transmitter = Client(name = 'Transmitter', password = b'password@transmitter')\n",
    "transmitter.register_on(server)\n",
    "transmitter.login_on(server)\n",
    "transmitter.change_password_on(server, b'myNew@password')\n",
    "transmitter.logout_from(server)"
   ]
  }
 ],
 "metadata": {
  "kernelspec": {
   "display_name": "Python 3",
   "language": "python",
   "name": "python3"
  },
  "language_info": {
   "codemirror_mode": {
    "name": "ipython",
    "version": 3
   },
   "file_extension": ".py",
   "mimetype": "text/x-python",
   "name": "python",
   "nbconvert_exporter": "python",
   "pygments_lexer": "ipython3",
   "version": "3.13.0"
  }
 },
 "nbformat": 4,
 "nbformat_minor": 5
}
