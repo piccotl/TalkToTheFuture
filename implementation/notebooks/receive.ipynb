{
 "cells": [
  {
   "cell_type": "markdown",
   "id": "9afa9b78",
   "metadata": {},
   "source": [
    "- Le destinataire se login. (en utilisant un canal sécurisé avec TLS)\n",
    "- Le serveur signal l'existence d'un message et la date à laquelle se message pourra être lu\n",
    "- Le destinataire demande à recevoir ce message\n",
    "- Le message reçu est doublement chiffré. Une fois par l'émetteur et une fois par le serveur\n",
    "Après la date limite:\n",
    "- Le destinataire demande au serveur la clé symmetrique unique associée au message "
   ]
  }
 ],
 "metadata": {
  "language_info": {
   "name": "python"
  }
 },
 "nbformat": 4,
 "nbformat_minor": 5
}
