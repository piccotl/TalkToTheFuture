{
 "cells": [
  {
   "cell_type": "code",
   "execution_count": 1,
   "id": "69434299",
   "metadata": {},
   "outputs": [],
   "source": [
    "from utils.logger import Tracer, print_header\n",
    "from models import Client, Server\n",
    "from models.message import AAD\n",
    "from datetime import datetime, date\n",
    "import questionary\n",
    "import sys"
   ]
  },
  {
   "cell_type": "markdown",
   "id": "869000d7",
   "metadata": {},
   "source": [
    "## Logging/pwd change"
   ]
  },
  {
   "cell_type": "code",
   "execution_count": 2,
   "id": "48e34878",
   "metadata": {},
   "outputs": [],
   "source": [
    "if False:\n",
    "    server = Server(name = 'Server')\n",
    "    transmitter = Client(name = 'Transmitter', password = 'password@transmitter')\n",
    "    transmitter.register_on(server)\n",
    "    transmitter.login_on(server)\n",
    "    transmitter.change_password('myNew@password')\n",
    "    transmitter.logout()\n",
    "    transmitter.change_password('Will fail because not logged in')"
   ]
  },
  {
   "cell_type": "markdown",
   "id": "8925f727",
   "metadata": {},
   "source": [
    "## Messages"
   ]
  },
  {
   "cell_type": "code",
   "execution_count": 3,
   "id": "9586a957",
   "metadata": {},
   "outputs": [
    {
     "name": "stdout",
     "output_type": "stream",
     "text": [
      "\u001b[34m[DEBUG]: [Alice]: Drawing a random salt...\u001b[39m\n",
      "\u001b[34m[DEBUG]: [Alice]: Hashing password...\u001b[39m\n",
      "\u001b[34m[DEBUG]: [Alice]: Request a registration on Server\u001b[39m\n",
      "\u001b[37m[INFO]: [Server]: New user Alice was added!\u001b[39m\n",
      "\u001b[34m[DEBUG]: [Bob]: Drawing a random salt...\u001b[39m\n",
      "\u001b[34m[DEBUG]: [Bob]: Hashing password...\u001b[39m\n",
      "\u001b[34m[DEBUG]: [Bob]: Request a registration on Server\u001b[39m\n",
      "\u001b[37m[INFO]: [Server]: New user Bob was added!\u001b[39m\n"
     ]
    },
    {
     "data": {
      "text/plain": [
       "True"
      ]
     },
     "execution_count": 3,
     "metadata": {},
     "output_type": "execute_result"
    }
   ],
   "source": [
    "server = Server(name = 'Server')\n",
    "alice = Client(name = 'Alice', password = 'alicepwd')\n",
    "bob = Client(name = 'Bob', password = 'bobpwd')\n",
    "\n",
    "alice.register_on(server)\n",
    "bob.register_on(server)"
   ]
  },
  {
   "cell_type": "code",
   "execution_count": 4,
   "id": "3e2ada90",
   "metadata": {},
   "outputs": [
    {
     "name": "stdout",
     "output_type": "stream",
     "text": [
      "\u001b[34m[DEBUG]: [Alice]: Getting salt from Server\u001b[39m\n",
      "\u001b[34m[DEBUG]: [Alice]: Recomputing pwd_verifier\u001b[39m\n",
      "\u001b[34m[DEBUG]: [Alice]: Sending login request to Server\u001b[39m\n",
      "\u001b[37m[INFO]: [Server]: User Alice is now connected!\u001b[39m\n",
      "\u001b[34m[DEBUG]: [Alice]: Session started with Server\u001b[39m\n",
      "\u001b[34m[DEBUG]: [Alice]: Getting Bob public key on Server\u001b[39m\n",
      "\u001b[34m[DEBUG]: [Alice]: Generating a public key\u001b[39m\n",
      "\u001b[34m[DEBUG]: [Alice]: Encrypting message data\u001b[39m\n",
      "\u001b[34m[DEBUG]: [Alice]: Encrypting symmetric key\u001b[39m\n",
      "\u001b[34m[DEBUG]: [Alice]: Sending message on Server\u001b[39m\n",
      "\u001b[37m[INFO]: [Server]: Message sent to Bob.\u001b[39m\n",
      "\u001b[34m[DEBUG]: [Alice]: Getting Bob public key on Server\u001b[39m\n",
      "\u001b[34m[DEBUG]: [Alice]: Generating a public key\u001b[39m\n",
      "\u001b[34m[DEBUG]: [Alice]: Encrypting message data\u001b[39m\n",
      "\u001b[34m[DEBUG]: [Alice]: Encrypting symmetric key\u001b[39m\n",
      "\u001b[34m[DEBUG]: [Alice]: Sending message on Server\u001b[39m\n",
      "\u001b[37m[INFO]: [Server]: Message sent to Bob.\u001b[39m\n"
     ]
    },
    {
     "data": {
      "text/plain": [
       "True"
      ]
     },
     "execution_count": 4,
     "metadata": {},
     "output_type": "execute_result"
    }
   ],
   "source": [
    "alice.login_on(server)\n",
    "\n",
    "alice.send_message(data='Hi Bob!', recipient_name='Bob', unlock_day=date(year=2025, month=5, day=30))\n",
    "alice.send_message(data='You will be able to read this message later!', recipient_name='Bob', unlock_day=date(year=2025, month=6, day=8))"
   ]
  },
  {
   "cell_type": "code",
   "execution_count": 5,
   "id": "061e83dc",
   "metadata": {},
   "outputs": [
    {
     "name": "stdout",
     "output_type": "stream",
     "text": [
      "\u001b[34m[DEBUG]: [Bob]: Getting salt from Server\u001b[39m\n",
      "\u001b[34m[DEBUG]: [Bob]: Recomputing pwd_verifier\u001b[39m\n",
      "\u001b[34m[DEBUG]: [Bob]: Sending login request to Server\u001b[39m\n",
      "\u001b[37m[INFO]: [Server]: User Bob is now connected!\u001b[39m\n",
      "\u001b[34m[DEBUG]: [Bob]: Session started with Server\u001b[39m\n",
      "\u001b[34m[DEBUG]: [Bob]: Requesting message metadata from Server\u001b[39m\n",
      "\u001b[34m[DEBUG]: [Server]: Returning Bob's messages\u001b[39m\n",
      "id 0 : [From: Alice | To: Bob | Unlock day: 2025-05-30]\n",
      "id 1 : [From: Alice | To: Bob | Unlock day: 2025-06-08]\n"
     ]
    }
   ],
   "source": [
    "bob.login_on(server)\n",
    "messages = bob.get_my_messages()\n",
    "for id, msg in enumerate(messages):\n",
    "    print(f\"id {id} : {msg}\")\n"
   ]
  },
  {
   "cell_type": "code",
   "execution_count": 6,
   "id": "7c48454d",
   "metadata": {},
   "outputs": [
    {
     "name": "stdout",
     "output_type": "stream",
     "text": [
      "\u001b[34m[DEBUG]: [Bob]: Getting salt from Server\u001b[39m\n",
      "\u001b[34m[DEBUG]: [Bob]: Recomputing pwd_verifier\u001b[39m\n",
      "\u001b[34m[DEBUG]: [Bob]: Sending login request to Server\u001b[39m\n",
      "\u001b[37m[INFO]: [Server]: User Bob is now connected!\u001b[39m\n",
      "\u001b[34m[DEBUG]: [Bob]: Session started with Server\u001b[39m\n",
      "\u001b[34m[DEBUG]: [Bob]: Requesting full message (id:0) from Server\u001b[39m\n",
      "\u001b[34m[DEBUG]: [Server]: Returning message (id:0) with key\u001b[39m\n",
      "\u001b[34m[DEBUG]: [Bob]: Decrypting message content\u001b[39m\n",
      "Received message : Hi Bob!\n",
      "\u001b[34m[DEBUG]: [Bob]: Requesting key for message (id:0)\u001b[39m\n",
      "Key of message 0 : b'p\\x16\\x91YJSs\\x88\\xef\\xc6KB\\xa3\\xbf\\xce\\x0b\\x18\\xf2\\x94\\xbe-j\\xfd\\r\\x80\\x9c\\xde\\xe3\\xdb:\\xc9\\xbd'\n",
      "\u001b[34m[DEBUG]: [Bob]: Requesting full message (id:1) from Server\u001b[39m\n",
      "\u001b[33m[WARNING]: [Server]: Access to message (id:1) is restricted until 2025-06-08\u001b[39m\n",
      "\u001b[31m[ERROR]: [Bob]: Unable to read message (id:1)\u001b[39m\n",
      "Received message : None\n",
      "\u001b[34m[DEBUG]: [Bob]: Downloading future message (id:1) without key\u001b[39m\n",
      "\u001b[34m[DEBUG]: [Server]: Returning future message (id:1) without key\u001b[39m\n",
      "Downloaded message : Message: [From: Alice | To: Bob | Unlock day: 2025-06-08]\n",
      "\u001b[34m[DEBUG]: [Bob]: Downloading future message (id:1) without key\u001b[39m\n",
      "\u001b[34m[DEBUG]: [Server]: Returning future message (id:1) without key\u001b[39m\n",
      "Received key from download : None\n"
     ]
    }
   ],
   "source": [
    "bob.login_on(server)\n",
    "print('Received message :', bob.read_message(0))\n",
    "print('Key of message 0 :', bob.get_message_key(0))\n",
    "\n",
    "print('Received message :', bob.read_message(1))\n",
    "print('Downloaded message :', bob.download_future_message(1))\n",
    "print('Received key from download :', bob.download_future_message(1).key)"
   ]
  }
 ],
 "metadata": {
  "kernelspec": {
   "display_name": "Python 3",
   "language": "python",
   "name": "python3"
  },
  "language_info": {
   "codemirror_mode": {
    "name": "ipython",
    "version": 3
   },
   "file_extension": ".py",
   "mimetype": "text/x-python",
   "name": "python",
   "nbconvert_exporter": "python",
   "pygments_lexer": "ipython3",
   "version": "3.13.0"
  }
 },
 "nbformat": 4,
 "nbformat_minor": 5
}
