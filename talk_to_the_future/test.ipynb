{
 "cells": [
  {
   "cell_type": "code",
   "execution_count": 1,
   "id": "69434299",
   "metadata": {},
   "outputs": [],
   "source": [
    "from utils.logger import Tracer, print_header\n",
    "from models import Client, Server\n",
    "from models.message import AAD\n",
    "from datetime import datetime, date\n",
    "import questionary\n",
    "import sys"
   ]
  },
  {
   "cell_type": "markdown",
   "id": "869000d7",
   "metadata": {},
   "source": [
    "## Logging/pwd change"
   ]
  },
  {
   "cell_type": "code",
   "execution_count": null,
   "id": "48e34878",
   "metadata": {},
   "outputs": [
    {
     "ename": "AttributeError",
     "evalue": "'Client' object has no attribute 'register_on_on'",
     "output_type": "error",
     "traceback": [
      "\u001b[1;31m---------------------------------------------------------------------------\u001b[0m",
      "\u001b[1;31mAttributeError\u001b[0m                            Traceback (most recent call last)",
      "Cell \u001b[1;32mIn[2], line 4\u001b[0m\n\u001b[0;32m      2\u001b[0m server \u001b[38;5;241m=\u001b[39m Server(name \u001b[38;5;241m=\u001b[39m \u001b[38;5;124m'\u001b[39m\u001b[38;5;124mServer\u001b[39m\u001b[38;5;124m'\u001b[39m)\n\u001b[0;32m      3\u001b[0m transmitter \u001b[38;5;241m=\u001b[39m Client(name \u001b[38;5;241m=\u001b[39m \u001b[38;5;124m'\u001b[39m\u001b[38;5;124mTransmitter\u001b[39m\u001b[38;5;124m'\u001b[39m, password \u001b[38;5;241m=\u001b[39m \u001b[38;5;124m'\u001b[39m\u001b[38;5;124mpassword@transmitter\u001b[39m\u001b[38;5;124m'\u001b[39m)\n\u001b[1;32m----> 4\u001b[0m \u001b[43mtransmitter\u001b[49m\u001b[38;5;241;43m.\u001b[39;49m\u001b[43mregister_on_on\u001b[49m(server)\n\u001b[0;32m      5\u001b[0m transmitter\u001b[38;5;241m.\u001b[39mlogin_on(server)\n\u001b[0;32m      6\u001b[0m transmitter\u001b[38;5;241m.\u001b[39mchange_password(\u001b[38;5;124m'\u001b[39m\u001b[38;5;124mmyNew@password\u001b[39m\u001b[38;5;124m'\u001b[39m)\n",
      "\u001b[1;31mAttributeError\u001b[0m: 'Client' object has no attribute 'register_on_on'"
     ]
    }
   ],
   "source": [
    "if True:\n",
    "    server = Server(name = 'Server')\n",
    "    transmitter = Client(name = 'Transmitter', password = 'password@transmitter')\n",
    "    transmitter.register_on(server)\n",
    "    transmitter.login_on(server)\n",
    "    transmitter.change_password('myNew@password')\n",
    "    transmitter.logout()"
   ]
  },
  {
   "cell_type": "code",
   "execution_count": null,
   "id": "9586a957",
   "metadata": {},
   "outputs": [
    {
     "name": "stdout",
     "output_type": "stream",
     "text": [
      "\u001b[34m[DEBUG]: [Alice]: Drawing a random salt...\u001b[39m\n",
      "\u001b[34m[DEBUG]: [Alice]: Hashing password...\u001b[39m\n",
      "\u001b[34m[DEBUG]: [Alice]: Request a registration on Server\u001b[39m\n",
      "\u001b[37m[INFO]: [Server]: New user Alice was added!\u001b[39m\n",
      "\u001b[34m[DEBUG]: [Bob]: Drawing a random salt...\u001b[39m\n",
      "\u001b[34m[DEBUG]: [Bob]: Hashing password...\u001b[39m\n",
      "\u001b[34m[DEBUG]: [Bob]: Request a registration on Server\u001b[39m\n",
      "\u001b[37m[INFO]: [Server]: New user Bob was added!\u001b[39m\n",
      "\u001b[34m[DEBUG]: [Alice]: Getting salt from Server\u001b[39m\n",
      "\u001b[34m[DEBUG]: [Alice]: Recomputing pwd_verifier\u001b[39m\n",
      "\u001b[34m[DEBUG]: [Alice]: Sending login request to Server\u001b[39m\n",
      "\u001b[37m[INFO]: [Server]: User Alice is now connected!\u001b[39m\n",
      "\u001b[34m[DEBUG]: [Alice]: Getting Bob public key on Server\u001b[39m\n",
      "\u001b[34m[DEBUG]: [Alice]: Generating a public key\u001b[39m\n",
      "\u001b[34m[DEBUG]: [Alice]: Encrypting message data\u001b[39m\n",
      "\u001b[34m[DEBUG]: [Alice]: Encrypting symmetric key\u001b[39m\n",
      "\u001b[33mHi Bob!\u001b[39m\n",
      "\u001b[34m[DEBUG]: [Alice]: Sending message on Server\u001b[39m\n",
      "\u001b[37m[INFO]: [Server]: Message sent to Bob.\u001b[39m\n",
      "\u001b[34m[DEBUG]: [Bob]: Getting salt from Server\u001b[39m\n",
      "\u001b[34m[DEBUG]: [Bob]: Recomputing pwd_verifier\u001b[39m\n",
      "\u001b[34m[DEBUG]: [Bob]: Sending login request to Server\u001b[39m\n",
      "\u001b[37m[INFO]: [Server]: User Bob is now connected!\u001b[39m\n",
      "\u001b[34m[DEBUG]: [Bob]: Requesting messages metadata from Server\u001b[39m\n",
      "Message: From: Alice | To: Bob | Unlock day:2025-05-30\n",
      "\u001b[34m[DEBUG]: [Bob]: Requesting message 0 from Server\u001b[39m\n",
      "\u001b[34m[DEBUG]: [Bob]: Decrypting message data\u001b[39m\n",
      "Received message : Hi Bob!\n"
     ]
    }
   ],
   "source": [
    "server = Server(name = 'Server')\n",
    "alice = Client(name = 'Alice', password = 'alicepwd')\n",
    "bob = Client(name = 'Bob', password = 'bobpwd')\n",
    "\n",
    "alice.register_on(server)\n",
    "bob.register_on(server)\n",
    "\n",
    "alice.login_on(server)\n",
    "\n",
    "alice.send_message(data='Hi Bob!', recipient_name='Bob', unlock_day=date(year=2025, month=5, day=30))\n",
    "bob.login_on(server)\n",
    "aad = bob.get_my_messages()\n",
    "print(aad[0])\n",
    "\n",
    "print('Received message :', bob.read_message(0))"
   ]
  }
 ],
 "metadata": {
  "kernelspec": {
   "display_name": "Python 3",
   "language": "python",
   "name": "python3"
  },
  "language_info": {
   "codemirror_mode": {
    "name": "ipython",
    "version": 3
   },
   "file_extension": ".py",
   "mimetype": "text/x-python",
   "name": "python",
   "nbconvert_exporter": "python",
   "pygments_lexer": "ipython3",
   "version": "3.13.0"
  }
 },
 "nbformat": 4,
 "nbformat_minor": 5
}
