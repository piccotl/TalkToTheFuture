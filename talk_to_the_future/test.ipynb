{
 "cells": [
  {
   "cell_type": "code",
   "execution_count": 2,
   "id": "69434299",
   "metadata": {},
   "outputs": [],
   "source": [
    "from utils.logger import Tracer, print_header\n",
    "from models import Client, Server\n",
    "from models.message import AAD\n",
    "from datetime import datetime, date\n",
    "import questionary\n",
    "import sys"
   ]
  },
  {
   "cell_type": "markdown",
   "id": "869000d7",
   "metadata": {},
   "source": [
    "## Logging/pwd change"
   ]
  },
  {
   "cell_type": "code",
   "execution_count": 3,
   "id": "48e34878",
   "metadata": {},
   "outputs": [
    {
     "name": "stdout",
     "output_type": "stream",
     "text": [
      "\u001b[34m[DEBUG]: [Transmitter]: Drawing a random salt...\u001b[39m\n",
      "\u001b[34m[DEBUG]: [Transmitter]: Hashing password...\u001b[39m\n",
      "\u001b[34m[DEBUG]: [Transmitter]: Request a registration on Server\u001b[39m\n",
      "\u001b[37m[INFO]: [Server]: New user Transmitter was added!\u001b[39m\n",
      "\u001b[34m[DEBUG]: [Transmitter]: Getting salt from Server\u001b[39m\n",
      "\u001b[34m[DEBUG]: [Transmitter]: Recomputing pwd_verifier\u001b[39m\n",
      "\u001b[34m[DEBUG]: [Transmitter]: Sending login request to Server\u001b[39m\n",
      "\u001b[37m[INFO]: [Server]: User Transmitter is now connected!\u001b[39m\n",
      "\u001b[34m[DEBUG]: [Transmitter]: Drawing a random salt...\u001b[39m\n",
      "\u001b[34m[DEBUG]: [Transmitter]: Hashing password...\u001b[39m\n",
      "\u001b[34m[DEBUG]: [Transmitter]: Request a passord update on Server\u001b[39m\n",
      "\u001b[37m[INFO]: [Server]: Password updated for Transmitter.\u001b[39m\n",
      "\u001b[34m[DEBUG]: [Transmitter]: Sending logout request to Server\u001b[39m\n",
      "\u001b[37m[INFO]: [Server]: Transmitter has been logged out.\u001b[39m\n"
     ]
    }
   ],
   "source": [
    "if True:\n",
    "    server = Server(name = 'Server')\n",
    "    transmitter = Client(name = 'Transmitter', password = 'password@transmitter')\n",
    "    transmitter.register_on(server)\n",
    "    transmitter.login_on(server)\n",
    "    transmitter.change_password('myNew@password')\n",
    "    transmitter.logout()"
   ]
  },
  {
   "cell_type": "markdown",
   "id": "8925f727",
   "metadata": {},
   "source": [
    "## Messages"
   ]
  },
  {
   "cell_type": "code",
   "execution_count": 4,
   "id": "9586a957",
   "metadata": {},
   "outputs": [
    {
     "name": "stdout",
     "output_type": "stream",
     "text": [
      "\u001b[34m[DEBUG]: [Alice]: Drawing a random salt...\u001b[39m\n",
      "\u001b[34m[DEBUG]: [Alice]: Hashing password...\u001b[39m\n",
      "\u001b[34m[DEBUG]: [Alice]: Request a registration on Server\u001b[39m\n",
      "\u001b[37m[INFO]: [Server]: New user Alice was added!\u001b[39m\n",
      "\u001b[34m[DEBUG]: [Bob]: Drawing a random salt...\u001b[39m\n",
      "\u001b[34m[DEBUG]: [Bob]: Hashing password...\u001b[39m\n",
      "\u001b[34m[DEBUG]: [Bob]: Request a registration on Server\u001b[39m\n",
      "\u001b[37m[INFO]: [Server]: New user Bob was added!\u001b[39m\n",
      "--\n"
     ]
    }
   ],
   "source": [
    "server = Server(name = 'Server')\n",
    "alice = Client(name = 'Alice', password = 'alicepwd')\n",
    "bob = Client(name = 'Bob', password = 'bobpwd')\n",
    "\n",
    "alice.register_on(server)\n",
    "bob.register_on(server)\n",
    "print('--')"
   ]
  },
  {
   "cell_type": "code",
   "execution_count": 5,
   "id": "3e2ada90",
   "metadata": {},
   "outputs": [
    {
     "name": "stdout",
     "output_type": "stream",
     "text": [
      "\u001b[34m[DEBUG]: [Alice]: Getting salt from Server\u001b[39m\n",
      "\u001b[34m[DEBUG]: [Alice]: Recomputing pwd_verifier\u001b[39m\n",
      "\u001b[34m[DEBUG]: [Alice]: Sending login request to Server\u001b[39m\n",
      "\u001b[37m[INFO]: [Server]: User Alice is now connected!\u001b[39m\n",
      "\u001b[34m[DEBUG]: [Alice]: Getting Bob public key on Server\u001b[39m\n",
      "\u001b[34m[DEBUG]: [Alice]: Generating a public key\u001b[39m\n",
      "\u001b[34m[DEBUG]: [Alice]: Encrypting message data\u001b[39m\n",
      "\u001b[34m[DEBUG]: [Alice]: Encrypting symmetric key\u001b[39m\n",
      "\u001b[34m[DEBUG]: [Alice]: Sending message on Server\u001b[39m\n",
      "\u001b[37m[INFO]: [Server]: Message sent to Bob.\u001b[39m\n",
      "\u001b[34m[DEBUG]: [Alice]: Getting Bob public key on Server\u001b[39m\n",
      "\u001b[34m[DEBUG]: [Alice]: Generating a public key\u001b[39m\n",
      "\u001b[34m[DEBUG]: [Alice]: Encrypting message data\u001b[39m\n",
      "\u001b[34m[DEBUG]: [Alice]: Encrypting symmetric key\u001b[39m\n",
      "\u001b[34m[DEBUG]: [Alice]: Sending message on Server\u001b[39m\n",
      "\u001b[37m[INFO]: [Server]: Message sent to Bob.\u001b[39m\n"
     ]
    },
    {
     "data": {
      "text/plain": [
       "True"
      ]
     },
     "execution_count": 5,
     "metadata": {},
     "output_type": "execute_result"
    }
   ],
   "source": [
    "alice.login_on(server)\n",
    "\n",
    "alice.send_message(data='Hi Bob!', recipient_name='Bob', unlock_day=date(year=2025, month=5, day=30))\n",
    "alice.send_message(data='You will be able to read this message later!', recipient_name='Bob', unlock_day=date(year=2025, month=6, day=8))"
   ]
  },
  {
   "cell_type": "code",
   "execution_count": 6,
   "id": "061e83dc",
   "metadata": {},
   "outputs": [
    {
     "name": "stdout",
     "output_type": "stream",
     "text": [
      "\u001b[34m[DEBUG]: [Bob]: Getting salt from Server\u001b[39m\n",
      "\u001b[34m[DEBUG]: [Bob]: Recomputing pwd_verifier\u001b[39m\n",
      "\u001b[34m[DEBUG]: [Bob]: Sending login request to Server\u001b[39m\n",
      "\u001b[37m[INFO]: [Server]: User Bob is now connected!\u001b[39m\n",
      "\u001b[34m[DEBUG]: [Bob]: Requesting messages metadata from Server\u001b[39m\n",
      "Message: From: Alice | To: Bob | Unlock day:2025-05-30\n",
      "\u001b[34m[DEBUG]: [Bob]: Requesting message 0 from Server\u001b[39m\n",
      "\u001b[34m[DEBUG]: [Bob]: Decrypting message data\u001b[39m\n",
      "Received message : Hi Bob!\n",
      "\u001b[34m[DEBUG]: [Bob]: Requesting message 1 from Server\u001b[39m\n",
      "\u001b[33m[WARNING]: [Server]: You are not allowed to read this message yet.\u001b[39m\n",
      "\u001b[33m[WARNING]: [Bob]: Message with id: 1 does not exist or is not available yet\u001b[39m\n",
      "Received message : None\n"
     ]
    }
   ],
   "source": [
    "bob.login_on(server)\n",
    "aad = bob.get_my_messages()\n",
    "print(aad[0])\n",
    "\n",
    "print('Received message :', bob.read_message(0))\n",
    "print('Received message :', bob.read_message(1))"
   ]
  }
 ],
 "metadata": {
  "kernelspec": {
   "display_name": "Python 3",
   "language": "python",
   "name": "python3"
  },
  "language_info": {
   "codemirror_mode": {
    "name": "ipython",
    "version": 3
   },
   "file_extension": ".py",
   "mimetype": "text/x-python",
   "name": "python",
   "nbconvert_exporter": "python",
   "pygments_lexer": "ipython3",
   "version": "3.13.0"
  }
 },
 "nbformat": 4,
 "nbformat_minor": 5
}
