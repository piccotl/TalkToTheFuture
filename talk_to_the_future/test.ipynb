{
 "cells": [
  {
   "cell_type": "code",
   "execution_count": 1,
   "id": "69434299",
   "metadata": {},
   "outputs": [],
   "source": [
    "from utils.logger import Tracer, print_header\n",
    "from models import Client, Server\n",
    "from models.message import AAD\n",
    "from datetime import datetime, date\n",
    "import questionary\n",
    "import sys"
   ]
  },
  {
   "cell_type": "markdown",
   "id": "869000d7",
   "metadata": {},
   "source": [
    "## Logging/pwd change"
   ]
  },
  {
   "cell_type": "code",
   "execution_count": 2,
   "id": "48e34878",
   "metadata": {},
   "outputs": [],
   "source": [
    "if False:\n",
    "    server = Server(name = 'Server')\n",
    "    transmitter = Client(name = 'Transmitter', password = 'password@transmitter')\n",
    "    transmitter.register_on(server)\n",
    "    transmitter.login_on(server)\n",
    "    transmitter.change_password_on(server, 'myNew@password')\n",
    "    transmitter.logout_from(server)"
   ]
  },
  {
   "cell_type": "code",
   "execution_count": null,
   "id": "9586a957",
   "metadata": {},
   "outputs": [
    {
     "name": "stdout",
     "output_type": "stream",
     "text": [
      "\u001b[34m[DEBUG]: [Alice]: Drawing a random salt...\u001b[39m\n",
      "\u001b[34m[DEBUG]: [Alice]: Hashing password...\u001b[39m\n",
      "\u001b[34m[DEBUG]: [Alice]: Request a registration on Server\u001b[39m\n",
      "\u001b[37m[INFO]: [Server]: New user Alice was added!\u001b[39m\n",
      "\u001b[34m[DEBUG]: [Bob]: Drawing a random salt...\u001b[39m\n",
      "\u001b[34m[DEBUG]: [Bob]: Hashing password...\u001b[39m\n",
      "\u001b[34m[DEBUG]: [Bob]: Request a registration on Server\u001b[39m\n",
      "\u001b[37m[INFO]: [Server]: New user Bob was added!\u001b[39m\n",
      "\u001b[34m[DEBUG]: [Alice]: Getting salt from Server\u001b[39m\n",
      "\u001b[34m[DEBUG]: [Alice]: Recomputing pwd_verifier\u001b[39m\n",
      "\u001b[34m[DEBUG]: [Alice]: Sending login request to Server\u001b[39m\n",
      "\u001b[37m[INFO]: [Server]: User Alice is now connected!\u001b[39m\n",
      "\u001b[34m[DEBUG]: [Alice]: Getting Bob public key on Server\u001b[39m\n",
      "\u001b[34m[DEBUG]: [Alice]: Generating a public key\u001b[39m\n",
      "\u001b[34m[DEBUG]: [Alice]: Encrypting message data\u001b[39m\n",
      "\u001b[34m[DEBUG]: [Alice]: Encrypting symmetric key\u001b[39m\n",
      "\u001b[33mhello\u001b[39m\n",
      "\u001b[34m[DEBUG]: [Alice]: Sending message on Server\u001b[39m\n",
      "\u001b[37m[INFO]: [Server]: Message sent to Bob.\u001b[39m\n",
      "\u001b[34m[DEBUG]: [Bob]: Getting salt from Server\u001b[39m\n",
      "\u001b[34m[DEBUG]: [Bob]: Recomputing pwd_verifier\u001b[39m\n",
      "\u001b[34m[DEBUG]: [Bob]: Sending login request to Server\u001b[39m\n",
      "\u001b[37m[INFO]: [Server]: User Bob is now connected!\u001b[39m\n",
      "\u001b[34m[DEBUG]: [Bob]: Requesting messages metadata from Server\u001b[39m\n",
      "Message: From: Alice | To: Bob | Unlock day:2025-05-30\n",
      "\u001b[34m[DEBUG]: [Bob]: Requesting message 0 from Server\u001b[39m\n",
      "\u001b[34m[DEBUG]: [Bob]: Decrypting message data\u001b[39m\n"
     ]
    },
    {
     "data": {
      "text/plain": [
       "'hello'"
      ]
     },
     "execution_count": 3,
     "metadata": {},
     "output_type": "execute_result"
    }
   ],
   "source": [
    "server = Server(name = 'Server')\n",
    "alice = Client(name = 'Alice', password = 'alicepwd')\n",
    "bob = Client(name = 'Bob', password = 'bobpwd')\n",
    "\n",
    "alice.register_on(server)\n",
    "bob.register_on(server)\n",
    "\n",
    "alice.login_on(server)\n",
    "\n",
    "alice.send_message(data='hello', recipient_name='Bob', unlock_day=date(year=2025, month=5, day=30), server=server)\n",
    "bob.login_on(server)\n",
    "aad = bob.get_my_messages(server)\n",
    "print(aad[0])\n",
    "\n",
    "print('Received message :', bob.read_message(server, 0))"
   ]
  },
  {
   "cell_type": "code",
   "execution_count": 9,
   "id": "83a1589e",
   "metadata": {},
   "outputs": [
    {
     "name": "stdout",
     "output_type": "stream",
     "text": [
      "\u001b[34m[DEBUG]: [Bob]: Requesting message 0 from Server\u001b[39m\n",
      "\u001b[34m[DEBUG]: [Bob]: Decrypting message data\u001b[39m\n"
     ]
    },
    {
     "data": {
      "text/plain": [
       "'hello'"
      ]
     },
     "execution_count": 9,
     "metadata": {},
     "output_type": "execute_result"
    }
   ],
   "source": [
    "bob.read_message(server, 0)"
   ]
  }
 ],
 "metadata": {
  "kernelspec": {
   "display_name": "Python 3",
   "language": "python",
   "name": "python3"
  },
  "language_info": {
   "codemirror_mode": {
    "name": "ipython",
    "version": 3
   },
   "file_extension": ".py",
   "mimetype": "text/x-python",
   "name": "python",
   "nbconvert_exporter": "python",
   "pygments_lexer": "ipython3",
   "version": "3.13.0"
  }
 },
 "nbformat": 4,
 "nbformat_minor": 5
}
