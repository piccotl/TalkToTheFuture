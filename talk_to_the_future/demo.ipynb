{
 "cells": [
  {
   "cell_type": "markdown",
   "id": "9e1ece98",
   "metadata": {},
   "source": [
    "<h1 style=\"text-align: center; font-size: 24pt\">ICR : Mini-Projet</h1>\n",
    "<h2 style=\"text-align: center; font-size: 18pt\">Demo</h2>\n",
    "<h2 style=\"text-align: center; font-size: 18pt\">Loïc Piccot - 21.05.2025</h2>\n",
    "\n",
    "This notebook aims to demonstrate the core features of the TalkToTheFuture secure messaging application.\n",
    "It showcases how users can register, authenticate, send encrypted messages to the future, and retrieve them once unlocked.\n",
    "For a more interactive experience, a command-line interface (CLI) is also available — simply run:\n",
    "```bash\n",
    "python main.py\n",
    "```"
   ]
  },
  {
   "cell_type": "code",
   "execution_count": 1,
   "id": "69434299",
   "metadata": {},
   "outputs": [],
   "source": [
    "from utils.logger import Tracer, print_header\n",
    "from models import Client, Server\n",
    "from models.aad import AAD\n",
    "from datetime import datetime, date\n",
    "import questionary\n",
    "import sys\n",
    "\n",
    "tr = Tracer(trace_level='DEBUG', default_color='magenta')"
   ]
  },
  {
   "cell_type": "markdown",
   "id": "869000d7",
   "metadata": {},
   "source": [
    "# Logging/password update"
   ]
  },
  {
   "cell_type": "code",
   "execution_count": 2,
   "id": "48e34878",
   "metadata": {},
   "outputs": [
    {
     "name": "stdout",
     "output_type": "stream",
     "text": [
      "\u001b[34m[DEBUG]: [Transmitter]: Generating keys...\u001b[39m\n",
      "\u001b[34m[DEBUG]: [Transmitter]: Request a registration on Server\u001b[39m\n",
      "\u001b[37m[INFO]: [Server]: New user Transmitter was added!\u001b[39m\n",
      "\u001b[34m[DEBUG]: [Transmitter]: Getting salt from Server\u001b[39m\n",
      "\u001b[34m[DEBUG]: [Transmitter]: Regenerating keys ...\u001b[39m\n",
      "\u001b[34m[DEBUG]: [Transmitter]: Sending login request to Server\u001b[39m\n",
      "\u001b[37m[INFO]: [Server]: User Transmitter is now connected!\u001b[39m\n",
      "\u001b[34m[DEBUG]: [Transmitter]: Session started with Server\u001b[39m\n",
      "\u001b[34m[DEBUG]: [Transmitter]: Generating keys...\u001b[39m\n",
      "\u001b[34m[DEBUG]: [Transmitter]: Updating credentials on Server\u001b[39m\n",
      "\u001b[37m[INFO]: [Server]: Keys updated for Transmitter.\u001b[39m\n",
      "\u001b[34m[DEBUG]: [Transmitter]: Sending logout request to Server\u001b[39m\n",
      "\u001b[37m[INFO]: [Server]: Transmitter has been logged out.\u001b[39m\n",
      "\u001b[34m[DEBUG]: [Transmitter]: Generating keys...\u001b[39m\n",
      "\u001b[34m[DEBUG]: [Transmitter]: Updating credentials on Server\u001b[39m\n",
      "\u001b[31m[ERROR]: [Server]: No active session found for Transmitter\u001b[39m\n",
      "\u001b[33m[WARNING]: [Server]: Transmitter must be logged in to update his keys\u001b[39m\n"
     ]
    },
    {
     "data": {
      "text/plain": [
       "False"
      ]
     },
     "execution_count": 2,
     "metadata": {},
     "output_type": "execute_result"
    }
   ],
   "source": [
    "server = Server(name = 'Server')\n",
    "transmitter = Client(name = 'Transmitter', password = 'password@transmitter')\n",
    "transmitter.register_on(server)\n",
    "transmitter.login_on(server)\n",
    "transmitter.change_password('myNew@password')\n",
    "transmitter.logout()\n",
    "transmitter.change_password('Will fail because not logged in')"
   ]
  },
  {
   "cell_type": "markdown",
   "id": "8925f727",
   "metadata": {},
   "source": [
    "# Messages"
   ]
  },
  {
   "cell_type": "markdown",
   "id": "42394c88",
   "metadata": {},
   "source": [
    "## Registration\n",
    "- Create Alice and Bob Users \n",
    "- Register them on a new server"
   ]
  },
  {
   "cell_type": "code",
   "execution_count": 3,
   "id": "9586a957",
   "metadata": {},
   "outputs": [
    {
     "name": "stdout",
     "output_type": "stream",
     "text": [
      "\u001b[34m[DEBUG]: [Alice]: Generating keys...\u001b[39m\n",
      "\u001b[34m[DEBUG]: [Alice]: Request a registration on Server\u001b[39m\n",
      "\u001b[37m[INFO]: [Server]: New user Alice was added!\u001b[39m\n",
      "\u001b[34m[DEBUG]: [Bob]: Generating keys...\u001b[39m\n",
      "\u001b[34m[DEBUG]: [Bob]: Request a registration on Server\u001b[39m\n",
      "\u001b[37m[INFO]: [Server]: New user Bob was added!\u001b[39m\n"
     ]
    },
    {
     "data": {
      "text/plain": [
       "True"
      ]
     },
     "execution_count": 3,
     "metadata": {},
     "output_type": "execute_result"
    }
   ],
   "source": [
    "server = Server(name = 'Server')\n",
    "alice = Client(name = 'Alice', password = 'alicepwd')\n",
    "bob = Client(name = 'Bob', password = 'bobpwd')\n",
    "\n",
    "alice.register_on(server)\n",
    "bob.register_on(server)"
   ]
  },
  {
   "cell_type": "markdown",
   "id": "2a488cfc",
   "metadata": {},
   "source": [
    "## Alice sends two messages to Bob\n",
    "- One is in the past -> Bob will be able to open it now\n",
    "- One is in the future -> Bob won't be able to open it"
   ]
  },
  {
   "cell_type": "code",
   "execution_count": 4,
   "id": "3e2ada90",
   "metadata": {},
   "outputs": [
    {
     "name": "stdout",
     "output_type": "stream",
     "text": [
      "\u001b[34m[DEBUG]: [Alice]: Getting salt from Server\u001b[39m\n",
      "\u001b[34m[DEBUG]: [Alice]: Regenerating keys ...\u001b[39m\n",
      "\u001b[34m[DEBUG]: [Alice]: Sending login request to Server\u001b[39m\n",
      "\u001b[37m[INFO]: [Server]: User Alice is now connected!\u001b[39m\n",
      "\u001b[34m[DEBUG]: [Alice]: Session started with Server\u001b[39m\n",
      "\u001b[34m[DEBUG]: [Alice]: Getting Bob public key on Server\u001b[39m\n",
      "\u001b[34m[DEBUG]: [Alice]: Encrypting and signing message\u001b[39m\n",
      "\u001b[34m[DEBUG]: [Alice]: Sending message on Server\u001b[39m\n",
      "\u001b[37m[INFO]: [Server]: Message sent to Bob.\u001b[39m\n",
      "\u001b[34m[DEBUG]: [Alice]: Getting Bob public key on Server\u001b[39m\n",
      "\u001b[34m[DEBUG]: [Alice]: Encrypting and signing message\u001b[39m\n",
      "\u001b[34m[DEBUG]: [Alice]: Sending message on Server\u001b[39m\n",
      "\u001b[37m[INFO]: [Server]: Message sent to Bob.\u001b[39m\n"
     ]
    },
    {
     "data": {
      "text/plain": [
       "True"
      ]
     },
     "execution_count": 4,
     "metadata": {},
     "output_type": "execute_result"
    }
   ],
   "source": [
    "alice.login_on(server)\n",
    "\n",
    "alice.send_message(content='Hi Bob!', receiver_name='Bob', unlock_day=date(year=2025, month=5, day=30))\n",
    "alice.send_message(content='You will be able to read this message later!', receiver_name='Bob', unlock_day=date(year=2060, month=1, day=1))"
   ]
  },
  {
   "cell_type": "markdown",
   "id": "3f3fde57",
   "metadata": {},
   "source": [
    "## Showing messages authenticated data (non crypted)\n",
    "- Bob Logs in\n",
    "- Bob reads metadata of messages he received"
   ]
  },
  {
   "cell_type": "code",
   "execution_count": 5,
   "id": "061e83dc",
   "metadata": {},
   "outputs": [
    {
     "name": "stdout",
     "output_type": "stream",
     "text": [
      "\u001b[34m[DEBUG]: [Bob]: Getting salt from Server\u001b[39m\n",
      "\u001b[34m[DEBUG]: [Bob]: Regenerating keys ...\u001b[39m\n",
      "\u001b[34m[DEBUG]: [Bob]: Sending login request to Server\u001b[39m\n",
      "\u001b[37m[INFO]: [Server]: User Bob is now connected!\u001b[39m\n",
      "\u001b[34m[DEBUG]: [Bob]: Session started with Server\u001b[39m\n",
      "\u001b[34m[DEBUG]: [Bob]: Requesting message metadata from Server\u001b[39m\n",
      "\u001b[34m[DEBUG]: [Server]: Returning Bob's messages\u001b[39m\n",
      "\u001b[35m-------------------------------------------------------\u001b[39m\n",
      "\u001b[35mid 0 : [From: Alice | To: Bob | Unlock day: 2025-05-30]\u001b[39m\n",
      "\u001b[35mid 1 : [From: Alice | To: Bob | Unlock day: 2060-01-01]\u001b[39m\n",
      "\u001b[35m-------------------------------------------------------\u001b[39m\n"
     ]
    }
   ],
   "source": [
    "bob.login_on(server)\n",
    "messages = bob.get_messages_aad()\n",
    "\n",
    "tr.sepline(55, char='-')\n",
    "for id, msg in enumerate(messages):\n",
    "    tr.colorprint(f\"id {id} : {msg}\")\n",
    "tr.sepline(55, char='-')"
   ]
  },
  {
   "cell_type": "markdown",
   "id": "166cce4f",
   "metadata": {},
   "source": [
    "## Read message in the past\n",
    "- Bob reads message 0 (available because in the past)\n",
    "- Bob can download the message without the symmetric encryption key\n",
    "- Bob can access the encrypted symmetric encryption key\n",
    "- Bob can append the encrypted symmetric encryption key to the message and fully decrypt it"
   ]
  },
  {
   "cell_type": "code",
   "execution_count": 6,
   "id": "7c48454d",
   "metadata": {},
   "outputs": [
    {
     "name": "stdout",
     "output_type": "stream",
     "text": [
      "\u001b[34m[DEBUG]: [Bob]: Getting salt from Server\u001b[39m\n",
      "\u001b[34m[DEBUG]: [Bob]: Regenerating keys ...\u001b[39m\n",
      "\u001b[34m[DEBUG]: [Bob]: Sending login request to Server\u001b[39m\n",
      "\u001b[37m[INFO]: [Server]: User Bob is now connected!\u001b[39m\n",
      "\u001b[34m[DEBUG]: [Bob]: Session started with Server\u001b[39m\n",
      "\u001b[34m[DEBUG]: [Bob]: Requesting full message (id:0) from Server\u001b[39m\n",
      "\u001b[34m[DEBUG]: [Server]: Returning message (id:0) with key\u001b[39m\n",
      "\u001b[34m[DEBUG]: [Bob]: Decrypting message content\u001b[39m\n",
      "\u001b[35mPlaintext of received message 0 : Hi Bob!\n",
      "\u001b[39m\n",
      "\u001b[34m[DEBUG]: [Bob]: Downloading future message (id:0) without key\u001b[39m\n",
      "\u001b[34m[DEBUG]: [Server]: Returning message (id:0) with key\u001b[39m\n",
      "\u001b[35mCrypted received message 0 :{'enc_sym_key': b'\\x83\\xc9\\xa6\\xfc=\\t\\xf7\\xdaC\\x11\\xec\\xb64N+\\x8b\\xd7\\x90\\xfc\\x11\\x8e/\\xce\"$m\\x9b\\x96\\xff\\x1b\\xc4N\\xd76\\x88\\xbe\\xf2\\xc1\\x99\\x1f\\x91,I\\xeb\\xe8\\xea\\x12o.\\xb6\\x91\\xd9),\\x94\\xf27\\xa1\\xf9\\xebV\\x07\\xf7\\xf7u\\xb2$S\\xb4i\\x82\\x05\\x0f\\x1a\\xe7V\\x88\\xff\\x8c\\xab', 'ciphertext': b'\\x92\\x17P\\xd9\\xc1}fg_-\\xcc\\x02\\xe1J\\xc2\\xb2\\xbd)\\xd6`b\\xcf\\xc9$\\xc3\\xc6\\x8e~\\x8b.\\xd1\\x85\\xf4\\x03\\xb2K\\xb5\\xce)\\x97C9\\x16\\xa8\\xf9\\x8f\\xf0', 'aad': b'Alice|Bob\\x0f\\xd2\\xbe', 'signature': b\"<.\\x15\\x18\\xa6X=\\xab\\xc0#XU\\xaeg\\xdf_j\\xb5)\\x91\\xd3'O\\xc5\\xa2\\x1a\\xfd\\x00\\xde-\\xb0Q\\xd1dMv\\xf5\\x1f\\xc0\\xccG9\\x02\\x91\\xfb\\xa4@c\\xddS\\xf2\\xfd\\x96\\r\\x0b\\xb5\\x02nF\\x0c,L\\xa6\\x05\", 'verify_key': b'\\xab\\xd4z\\r\\xea\\xe4|B\\x185I0\\xa3p[\\x8fL\\xb5S\\xe2&ON`i\\x91\\xaa5q\\x91~\\xca'}\n",
      "\u001b[39m\n",
      "\u001b[34m[DEBUG]: [Bob]: Requesting key for message (id:0)\u001b[39m\n",
      "\u001b[35mKey of message 0 : b'\\x83\\xc9\\xa6\\xfc=\\t\\xf7\\xdaC\\x11\\xec\\xb64N+\\x8b\\xd7\\x90\\xfc\\x11\\x8e/\\xce\"$m\\x9b\\x96\\xff\\x1b\\xc4N\\xd76\\x88\\xbe\\xf2\\xc1\\x99\\x1f\\x91,I\\xeb\\xe8\\xea\\x12o.\\xb6\\x91\\xd9),\\x94\\xf27\\xa1\\xf9\\xebV\\x07\\xf7\\xf7u\\xb2$S\\xb4i\\x82\\x05\\x0f\\x1a\\xe7V\\x88\\xff\\x8c\\xab'\n",
      "\u001b[39m\n",
      "\u001b[35mPlaintext of self decrypted message 0 : Hi Bob!\u001b[39m\n"
     ]
    }
   ],
   "source": [
    "bob.login_on(server)\n",
    "plain_text_msg0 = bob.read_message(0)\n",
    "tr.colorprint(f'Plaintext of received message 0 : {plain_text_msg0}\\n')\n",
    "\n",
    "locked_msg0 = bob.download_future_message(0)\n",
    "tr.colorprint(f'Crypted received message 0 :{locked_msg0}\\n')\n",
    "\n",
    "key_msg0 = bob.get_msg_enc_sym_key(0)\n",
    "tr.colorprint(f'Key of message 0 : {key_msg0}\\n')\n",
    "\n",
    "# Appends the key\n",
    "locked_msg0[\"enc_sym_key\"] = key_msg0\n",
    "self_decrypted_msg0 = bob.decrypt_message(locked_msg0)\n",
    "tr.colorprint(f'Plaintext of self decrypted message 0 : {self_decrypted_msg0}')\n"
   ]
  },
  {
   "cell_type": "markdown",
   "id": "cde647cb",
   "metadata": {},
   "source": [
    "## Read message in the future\n",
    "- Bob can't read message 1 because the unlock day did not happen\n",
    "- Bob can download the message without the symmetric key. Therefore, he is not able to decrypt the message yet."
   ]
  },
  {
   "cell_type": "code",
   "execution_count": 7,
   "id": "32081500",
   "metadata": {},
   "outputs": [
    {
     "name": "stdout",
     "output_type": "stream",
     "text": [
      "\u001b[34m[DEBUG]: [Bob]: Requesting full message (id:1) from Server\u001b[39m\n",
      "\u001b[33m[WARNING]: [Server]: Access to message (id:1) is restricted until 2060-01-01\u001b[39m\n",
      "\u001b[31m[ERROR]: [Bob]: Unable to read message (id:1)\u001b[39m\n",
      "\u001b[35mPlain text of message 1 is 'None' for now\n",
      "\u001b[39m\n",
      "\u001b[34m[DEBUG]: [Bob]: Downloading future message (id:1) without key\u001b[39m\n",
      "\u001b[34m[DEBUG]: [Server]: Returning future message (id:1) without key\u001b[39m\n",
      "\u001b[35mMessage 1 is {'ciphertext': b'@e?\\rl\\x94\\xd3$%\\xa5N;\\xcf\\xfa2\\x13\\x0f~\\xe1\\x08&c\\xec\\x88\\x9f\\x8d\\xb5\\xf5\\x8e\\xdeA\\xfb\\x11\\xd7j\\x82\\xa3\\xf6\\xa5Z2f9\\x88?d\\xaf`\\xfd\\x91\\x9b\\xf5c\\xb96\\x80\\x9f\\xfc\\xc2\\xc0\\xa3\\x8b\\xd0|\\x84\\xbd\\xdc\\x9f\\xb5\\x0e\\xa9\\x0c\\xb6G*V\\x97\\xdaT\\x1dt\\x88\\xdc}', 'aad': b'Alice|Bob\\x10\\x18!', 'signature': b'\\xce\\xbb9\\xaf\\xb0Gy\\xdd\\x06[\\xf0\\xa6\\xa0\\xaf%\\xc9*\\xa0\\xf6\\x98s|\\xa9\\xc9\\\\o\\xa72;\\x17\\xba\\xf0\\x1cp\\xd1P\"\\x8c\\xb9\\xb4Z\\xe2_a\\x13\\x8b\\xbf\\xeb\\xf0a0\\xd3A\\xc7=S\\xba#O\\x85\\xc4\\x85\\x93\\x02', 'verify_key': b'\\xab\\xd4z\\r\\xea\\xe4|B\\x185I0\\xa3p[\\x8fL\\xb5S\\xe2&ON`i\\x91\\xaa5q\\x91~\\xca'}\n",
      "\u001b[39m\n",
      "\u001b[34m[DEBUG]: [Bob]: Requesting key for message (id:1)\u001b[39m\n",
      "\u001b[33m[WARNING]: [Server]: Key for message (id:1) not available until 2060-01-01\u001b[39m\n",
      "\u001b[31m[ERROR]: [Bob]: Unable to get symmetric key for this message (id:1)\u001b[39m\n",
      "\u001b[35mEnc_sym_key 1 is 'None' for now\n",
      "\u001b[39m\n"
     ]
    }
   ],
   "source": [
    "plain_text_msg1 = bob.read_message(1)\n",
    "tr.colorprint(f\"Plain text of message 1 is '{plain_text_msg1}' for now\\n\")\n",
    "encrypted_msg1 = bob.download_future_message(1)\n",
    "tr.colorprint(f\"Message 1 is {encrypted_msg1}\\n\")\n",
    "key_msg1 = bob.get_msg_enc_sym_key(1)\n",
    "tr.colorprint(f\"Enc_sym_key 1 is '{key_msg1}' for now\\n\")"
   ]
  }
 ],
 "metadata": {
  "kernelspec": {
   "display_name": "Python 3",
   "language": "python",
   "name": "python3"
  },
  "language_info": {
   "codemirror_mode": {
    "name": "ipython",
    "version": 3
   },
   "file_extension": ".py",
   "mimetype": "text/x-python",
   "name": "python",
   "nbconvert_exporter": "python",
   "pygments_lexer": "ipython3",
   "version": "3.13.0"
  }
 },
 "nbformat": 4,
 "nbformat_minor": 5
}
