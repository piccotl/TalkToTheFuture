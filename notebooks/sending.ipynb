{
 "cells": [
  {
   "cell_type": "markdown",
   "id": "c58f10e3",
   "metadata": {},
   "source": [
    "Users should be able to send messages to other users. These messages are confidential and only\n",
    "the receiver should be able to read them"
   ]
  },
  {
   "cell_type": "markdown",
   "id": "89498d11",
   "metadata": {
    "vscode": {
     "languageId": "plaintext"
    }
   },
   "source": [
    "## Enregistrement d'un clée publique sur le serveur\n",
    "Lors de l'enregistrement d'un utilisateur, \n",
    "\n",
    "## Récupération de la clé publique du destinataire\n",
    "L'émetteur se login\n",
    "Il envoie au serveur le nom (username) du destinataire du message\n",
    "Le serveur vérifie l'existance de cet utilisateur et envoie (si il existe) la clé publique associé\n",
    "Le serveur répond par la clé publique du destinataire\n",
    "L'émetteur chiffre une clé symmétrique avec la clé publique\n"
   ]
  }
 ],
 "metadata": {
  "language_info": {
   "name": "python"
  }
 },
 "nbformat": 4,
 "nbformat_minor": 5
}
